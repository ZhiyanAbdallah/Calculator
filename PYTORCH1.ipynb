{
  "nbformat": 4,
  "nbformat_minor": 0,
  "metadata": {
    "colab": {
      "provenance": [],
      "authorship_tag": "ABX9TyPbg56OkrtkqIGVZsBdWQbI",
      "include_colab_link": true
    },
    "kernelspec": {
      "name": "python3",
      "display_name": "Python 3"
    },
    "language_info": {
      "name": "python"
    }
  },
  "cells": [
    {
      "cell_type": "markdown",
      "metadata": {
        "id": "view-in-github",
        "colab_type": "text"
      },
      "source": [
        "<a href=\"https://colab.research.google.com/github/ZhiyanAbdallah/Calculator/blob/main/PYTORCH1.ipynb\" target=\"_parent\"><img src=\"https://colab.research.google.com/assets/colab-badge.svg\" alt=\"Open In Colab\"/></a>"
      ]
    },
    {
      "cell_type": "code",
      "execution_count": 6,
      "metadata": {
        "colab": {
          "base_uri": "https://localhost:8080/"
        },
        "id": "JMNfCXpEDV7n",
        "outputId": "ba0f5a5e-cc16-4eb6-b769-ad8a3ce44406"
      },
      "outputs": [
        {
          "output_type": "stream",
          "name": "stdout",
          "text": [
            "The scalar is 8\n",
            "The n dim  of the scalar is 0\n"
          ]
        }
      ],
      "source": [
        "#CREATING A SCALAR\n",
        "import torch\n",
        "scalar=torch.tensor(8)\n",
        "scalardim=scalar.ndim\n",
        "print(f'The scalar is {scalar}')\n",
        "print(f'The n dim  of the scalar is {scalardim}')"
      ]
    },
    {
      "cell_type": "code",
      "source": [
        "#CREATING A VECTOR\n",
        "import torch\n",
        "vector=torch.tensor([3,5])\n",
        "vectorshape=vector.shape\n",
        "vectorndim=vector.ndim\n",
        "print(f'The vector is {vector}')\n",
        "print(f'The vector shape is {vectorshape}')\n",
        "print(f'The vector number of dimension is {vectorndim}')"
      ],
      "metadata": {
        "colab": {
          "base_uri": "https://localhost:8080/"
        },
        "id": "6FAD7NkHD1Nu",
        "outputId": "b3605cc5-ea1f-4518-9a8f-93580f565b8c"
      },
      "execution_count": 8,
      "outputs": [
        {
          "output_type": "stream",
          "name": "stdout",
          "text": [
            "The vector is tensor([3, 5])\n",
            "The vector shape is torch.Size([2])\n",
            "The vector number of dimension is 1\n"
          ]
        }
      ]
    },
    {
      "cell_type": "code",
      "source": [
        "#CREATING A MATRIX\n",
        "MATRIX=torch.tensor([[4,7],[7,9],[1,9],[6,4],[5,9]])\n",
        "print(f'The matrix is {MATRIX}')\n",
        "print(f'The matrix shape is {MATRIX.shape}')\n",
        "print(f'The Matrix number of dimension is {MATRIX.ndim}')"
      ],
      "metadata": {
        "colab": {
          "base_uri": "https://localhost:8080/"
        },
        "id": "XWpzMdjlF5wR",
        "outputId": "e15f8b6c-a276-42e2-8af0-bad0f218d24f"
      },
      "execution_count": 9,
      "outputs": [
        {
          "output_type": "stream",
          "name": "stdout",
          "text": [
            "The matrix is tensor([[4, 7],\n",
            "        [7, 9],\n",
            "        [1, 9],\n",
            "        [6, 4],\n",
            "        [5, 9]])\n",
            "The matrix shape is torch.Size([5, 2])\n",
            "The Matrix number of dimension is 2\n"
          ]
        }
      ]
    },
    {
      "cell_type": "code",
      "source": [
        "#CREATING TENSORS\n",
        "TENSOR=torch.tensor([[[5,8],[9,9],[8,5],[7,5],[4,7],[7,9],[1,9],[6,4],[5,9]]])\n",
        "print(f'The tensor is {TENSOR}')\n",
        "print(f'The tensor shape is {TENSOR.shape}')\n",
        "print(f'The tensor number of dimension is {TENSOR.ndim}')"
      ],
      "metadata": {
        "colab": {
          "base_uri": "https://localhost:8080/"
        },
        "id": "wL-jIJqlHXFK",
        "outputId": "f91d7884-051a-4beb-b55c-a2719c67db3e"
      },
      "execution_count": 11,
      "outputs": [
        {
          "output_type": "stream",
          "name": "stdout",
          "text": [
            "The tensor is tensor([[[5, 8],\n",
            "         [9, 9],\n",
            "         [8, 5],\n",
            "         [7, 5],\n",
            "         [4, 7],\n",
            "         [7, 9],\n",
            "         [1, 9],\n",
            "         [6, 4],\n",
            "         [5, 9]]])\n",
            "The tensor shape is torch.Size([1, 9, 2])\n",
            "The tensor number of dimension is 3\n"
          ]
        }
      ]
    },
    {
      "cell_type": "code",
      "source": [
        "#CREATING RANDOM NUMBERS\n",
        "import torch\n",
        "RANDOM_TENSOR=torch.rand(9,5)\n",
        "print(RANDOM_TENSOR)\n",
        "print(f'The shape of this random tensor is {RANDOM_TENSOR.shape}')\n",
        "print(f'The number of dimension of the tensor is {RANDOM_TENSOR.ndim}')"
      ],
      "metadata": {
        "colab": {
          "base_uri": "https://localhost:8080/"
        },
        "id": "TDv7DOZHIr3Y",
        "outputId": "24cd9b36-2a36-4b92-96d3-97e903753fa3"
      },
      "execution_count": 16,
      "outputs": [
        {
          "output_type": "stream",
          "name": "stdout",
          "text": [
            "tensor([[3.6951e-01, 1.5289e-01, 1.1341e-01, 8.5827e-01, 9.3405e-02],\n",
            "        [4.9882e-01, 9.8212e-01, 8.2759e-01, 1.7829e-01, 7.7212e-03],\n",
            "        [7.1752e-01, 2.5282e-01, 9.1629e-01, 9.8414e-01, 1.5507e-01],\n",
            "        [4.6440e-02, 1.1417e-01, 9.0715e-01, 5.9483e-01, 5.0256e-01],\n",
            "        [3.1751e-01, 3.4498e-01, 5.6749e-01, 4.4484e-01, 5.9900e-01],\n",
            "        [9.6569e-01, 2.7600e-01, 4.4711e-01, 6.6573e-01, 8.5607e-01],\n",
            "        [5.5471e-01, 8.6056e-02, 8.7917e-01, 7.5314e-01, 6.3382e-01],\n",
            "        [9.0804e-01, 3.4410e-01, 5.5319e-01, 7.0227e-01, 4.3589e-01],\n",
            "        [8.4036e-01, 3.9822e-01, 9.8349e-02, 3.2130e-01, 9.0593e-04]])\n",
            "The shape of this random tensor is torch.Size([9, 5])\n",
            "The number of dimension of the tensor is 2\n"
          ]
        }
      ]
    },
    {
      "cell_type": "code",
      "source": [
        "#CREATING RANDOM TENSORS OF IMAGE\n",
        "img=torch.rand(size=(340,340,3))\n",
        "img\n",
        "\n",
        "\n",
        "\n"
      ],
      "metadata": {
        "colab": {
          "base_uri": "https://localhost:8080/"
        },
        "id": "0GQYpVlgKHq0",
        "outputId": "128e82a0-8835-44bc-e4b7-1965b4f4d68b"
      },
      "execution_count": 17,
      "outputs": [
        {
          "output_type": "execute_result",
          "data": {
            "text/plain": [
              "tensor([[[0.6316, 0.6970, 0.0470],\n",
              "         [0.2652, 0.8844, 0.7614],\n",
              "         [0.3181, 0.1564, 0.7224],\n",
              "         ...,\n",
              "         [0.0393, 0.4328, 0.2060],\n",
              "         [0.8600, 0.0175, 0.5390],\n",
              "         [0.9020, 0.7160, 0.3774]],\n",
              "\n",
              "        [[0.8597, 0.0564, 0.6195],\n",
              "         [0.5216, 0.6243, 0.8060],\n",
              "         [0.9169, 0.4295, 0.0567],\n",
              "         ...,\n",
              "         [0.3150, 0.0344, 0.9619],\n",
              "         [0.3948, 0.7845, 0.7585],\n",
              "         [0.5184, 0.0386, 0.9673]],\n",
              "\n",
              "        [[0.5888, 0.6581, 0.5662],\n",
              "         [0.0925, 0.5569, 0.4766],\n",
              "         [0.8783, 0.8551, 0.1835],\n",
              "         ...,\n",
              "         [0.1228, 0.6184, 0.7083],\n",
              "         [0.2303, 0.0947, 0.5218],\n",
              "         [0.6559, 0.6002, 0.0633]],\n",
              "\n",
              "        ...,\n",
              "\n",
              "        [[0.0732, 0.1898, 0.3147],\n",
              "         [0.8924, 0.3418, 0.6193],\n",
              "         [0.0120, 0.9068, 0.8565],\n",
              "         ...,\n",
              "         [0.4495, 0.9065, 0.8893],\n",
              "         [0.6363, 0.8560, 0.7064],\n",
              "         [0.6599, 0.3002, 0.8790]],\n",
              "\n",
              "        [[0.2662, 0.1812, 0.9981],\n",
              "         [0.5675, 0.8088, 0.4890],\n",
              "         [0.8778, 0.5698, 0.1734],\n",
              "         ...,\n",
              "         [0.6106, 0.3301, 0.6391],\n",
              "         [0.2103, 0.6260, 0.3261],\n",
              "         [0.9138, 0.3314, 0.0067]],\n",
              "\n",
              "        [[0.6978, 0.5837, 0.4258],\n",
              "         [0.2080, 0.1941, 0.4310],\n",
              "         [0.7115, 0.1143, 0.0522],\n",
              "         ...,\n",
              "         [0.6240, 0.0525, 0.2610],\n",
              "         [0.3582, 0.4841, 0.9929],\n",
              "         [0.8905, 0.3408, 0.4091]]])"
            ]
          },
          "metadata": {},
          "execution_count": 17
        }
      ]
    },
    {
      "cell_type": "code",
      "source": [
        "import torch\n",
        "img2=torch.rand(size=(1,64,64))\n",
        "img"
      ],
      "metadata": {
        "colab": {
          "base_uri": "https://localhost:8080/"
        },
        "id": "SXYfdntkLerc",
        "outputId": "2d3adbbf-b43d-430b-b483-380087772abb"
      },
      "execution_count": 21,
      "outputs": [
        {
          "output_type": "execute_result",
          "data": {
            "text/plain": [
              "tensor([[[0.6316, 0.6970, 0.0470],\n",
              "         [0.2652, 0.8844, 0.7614],\n",
              "         [0.3181, 0.1564, 0.7224],\n",
              "         ...,\n",
              "         [0.0393, 0.4328, 0.2060],\n",
              "         [0.8600, 0.0175, 0.5390],\n",
              "         [0.9020, 0.7160, 0.3774]],\n",
              "\n",
              "        [[0.8597, 0.0564, 0.6195],\n",
              "         [0.5216, 0.6243, 0.8060],\n",
              "         [0.9169, 0.4295, 0.0567],\n",
              "         ...,\n",
              "         [0.3150, 0.0344, 0.9619],\n",
              "         [0.3948, 0.7845, 0.7585],\n",
              "         [0.5184, 0.0386, 0.9673]],\n",
              "\n",
              "        [[0.5888, 0.6581, 0.5662],\n",
              "         [0.0925, 0.5569, 0.4766],\n",
              "         [0.8783, 0.8551, 0.1835],\n",
              "         ...,\n",
              "         [0.1228, 0.6184, 0.7083],\n",
              "         [0.2303, 0.0947, 0.5218],\n",
              "         [0.6559, 0.6002, 0.0633]],\n",
              "\n",
              "        ...,\n",
              "\n",
              "        [[0.0732, 0.1898, 0.3147],\n",
              "         [0.8924, 0.3418, 0.6193],\n",
              "         [0.0120, 0.9068, 0.8565],\n",
              "         ...,\n",
              "         [0.4495, 0.9065, 0.8893],\n",
              "         [0.6363, 0.8560, 0.7064],\n",
              "         [0.6599, 0.3002, 0.8790]],\n",
              "\n",
              "        [[0.2662, 0.1812, 0.9981],\n",
              "         [0.5675, 0.8088, 0.4890],\n",
              "         [0.8778, 0.5698, 0.1734],\n",
              "         ...,\n",
              "         [0.6106, 0.3301, 0.6391],\n",
              "         [0.2103, 0.6260, 0.3261],\n",
              "         [0.9138, 0.3314, 0.0067]],\n",
              "\n",
              "        [[0.6978, 0.5837, 0.4258],\n",
              "         [0.2080, 0.1941, 0.4310],\n",
              "         [0.7115, 0.1143, 0.0522],\n",
              "         ...,\n",
              "         [0.6240, 0.0525, 0.2610],\n",
              "         [0.3582, 0.4841, 0.9929],\n",
              "         [0.8905, 0.3408, 0.4091]]])"
            ]
          },
          "metadata": {},
          "execution_count": 21
        }
      ]
    },
    {
      "cell_type": "code",
      "source": [
        "image3=torch.rand(size=(4,23,23))\n",
        "image3"
      ],
      "metadata": {
        "colab": {
          "base_uri": "https://localhost:8080/"
        },
        "id": "f0meYQPcML6S",
        "outputId": "16bdbcd1-f82d-4781-cf5e-28f154a2de5a"
      },
      "execution_count": 23,
      "outputs": [
        {
          "output_type": "execute_result",
          "data": {
            "text/plain": [
              "tensor([[[0.8105, 0.1047, 0.9653,  ..., 0.7306, 0.7051, 0.8421],\n",
              "         [0.8819, 0.5054, 0.0858,  ..., 0.0340, 0.8952, 0.5267],\n",
              "         [0.6004, 0.0594, 0.9149,  ..., 0.4913, 0.4030, 0.2273],\n",
              "         ...,\n",
              "         [0.3451, 0.3334, 0.0414,  ..., 0.3890, 0.1847, 0.6820],\n",
              "         [0.0192, 0.9860, 0.9681,  ..., 0.2772, 0.2459, 0.6025],\n",
              "         [0.1477, 0.9015, 0.5143,  ..., 0.6757, 0.6334, 0.1088]],\n",
              "\n",
              "        [[0.4574, 0.3954, 0.8226,  ..., 0.1831, 0.7329, 0.8490],\n",
              "         [0.6575, 0.0900, 0.7871,  ..., 0.6502, 0.7864, 0.2835],\n",
              "         [0.9917, 0.6714, 0.0796,  ..., 0.0827, 0.7147, 0.4510],\n",
              "         ...,\n",
              "         [0.1636, 0.9106, 0.0388,  ..., 0.1098, 0.1726, 0.7026],\n",
              "         [0.6994, 0.3537, 0.2736,  ..., 0.3065, 0.1483, 0.2060],\n",
              "         [0.7596, 0.8895, 0.4333,  ..., 0.4163, 0.6564, 0.5427]],\n",
              "\n",
              "        [[0.6766, 0.6475, 0.0659,  ..., 0.0182, 0.1842, 0.4724],\n",
              "         [0.3289, 0.1308, 0.4138,  ..., 0.5550, 0.2920, 0.5839],\n",
              "         [0.1283, 0.7950, 0.5287,  ..., 0.8495, 0.1881, 0.9957],\n",
              "         ...,\n",
              "         [0.2367, 0.4888, 0.1901,  ..., 0.4492, 0.1370, 0.7495],\n",
              "         [0.6079, 0.3114, 0.4150,  ..., 0.2601, 0.7650, 0.4789],\n",
              "         [0.0687, 0.6031, 0.1067,  ..., 0.1937, 0.9972, 0.2366]],\n",
              "\n",
              "        [[0.8207, 0.2342, 0.7070,  ..., 0.6582, 0.9287, 0.6998],\n",
              "         [0.9782, 0.0706, 0.3945,  ..., 0.4732, 0.7483, 0.9150],\n",
              "         [0.5176, 0.9136, 0.3044,  ..., 0.7485, 0.7118, 0.8044],\n",
              "         ...,\n",
              "         [0.2875, 0.7246, 0.3022,  ..., 0.2216, 0.8029, 0.3043],\n",
              "         [0.2922, 0.0902, 0.8327,  ..., 0.9335, 0.6251, 0.5689],\n",
              "         [0.8601, 0.4069, 0.1335,  ..., 0.5484, 0.0604, 0.9060]]])"
            ]
          },
          "metadata": {},
          "execution_count": 23
        }
      ]
    },
    {
      "cell_type": "code",
      "source": [
        "#CREATING ZEROS AND ONE\n",
        "import torch\n",
        "tensoerz=torch.zeros(4,4)\n",
        "tensoerz\n",
        "tensoro=torch.ones(7,8)\n",
        "tensoro"
      ],
      "metadata": {
        "colab": {
          "base_uri": "https://localhost:8080/"
        },
        "id": "lfqOOp6ZMwIh",
        "outputId": "755eb997-6f5c-4be6-c5b7-fcc3f7c374b2"
      },
      "execution_count": 27,
      "outputs": [
        {
          "output_type": "execute_result",
          "data": {
            "text/plain": [
              "tensor([[1., 1., 1., 1., 1., 1., 1., 1.],\n",
              "        [1., 1., 1., 1., 1., 1., 1., 1.],\n",
              "        [1., 1., 1., 1., 1., 1., 1., 1.],\n",
              "        [1., 1., 1., 1., 1., 1., 1., 1.],\n",
              "        [1., 1., 1., 1., 1., 1., 1., 1.],\n",
              "        [1., 1., 1., 1., 1., 1., 1., 1.],\n",
              "        [1., 1., 1., 1., 1., 1., 1., 1.]])"
            ]
          },
          "metadata": {},
          "execution_count": 27
        }
      ]
    },
    {
      "cell_type": "code",
      "source": [],
      "metadata": {
        "id": "L2amzjlaN1UU"
      },
      "execution_count": null,
      "outputs": []
    }
  ]
}